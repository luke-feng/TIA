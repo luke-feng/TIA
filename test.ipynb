{
 "cells": [
  {
   "cell_type": "code",
   "execution_count": 2,
   "metadata": {},
   "outputs": [],
   "source": [
    "from Dataset.mnist import MNISTDataset"
   ]
  },
  {
   "cell_type": "code",
   "execution_count": 3,
   "metadata": {},
   "outputs": [],
   "source": [
    "from lightning import Trainer\n",
    "from torch.utils.data import DataLoader\n",
    "from Model.mlp import MLP"
   ]
  },
  {
   "cell_type": "code",
   "execution_count": 4,
   "metadata": {},
   "outputs": [],
   "source": [
    "import numpy as np"
   ]
  },
  {
   "cell_type": "code",
   "execution_count": 9,
   "metadata": {},
   "outputs": [],
   "source": [
    "from torch.utils.data import Subset, DataLoader, ConcatDataset"
   ]
  },
  {
   "cell_type": "code",
   "execution_count": 9,
   "metadata": {},
   "outputs": [
    {
     "name": "stderr",
     "output_type": "stream",
     "text": [
      "GPU available: True (cuda), used: True\n",
      "TPU available: False, using: 0 TPU cores\n",
      "HPU available: False, using: 0 HPUs\n",
      "j:\\TIA\\.venv\\Lib\\site-packages\\lightning\\pytorch\\trainer\\configuration_validator.py:70: You defined a `validation_step` but have no `val_dataloader`. Skipping val loop.\n",
      "You are using a CUDA device ('NVIDIA GeForce RTX 4070 Ti') that has Tensor Cores. To properly utilize them, you should set `torch.set_float32_matmul_precision('medium' | 'high')` which will trade-off precision for performance. For more details, read https://pytorch.org/docs/stable/generated/torch.set_float32_matmul_precision.html#torch.set_float32_matmul_precision\n",
      "LOCAL_RANK: 0 - CUDA_VISIBLE_DEVICES: [0]\n"
     ]
    },
    {
     "name": "stdout",
     "output_type": "stream",
     "text": [
      "Epoch 9: 100%|██████████| 20/20 [00:00<00:00, 119.79it/s]"
     ]
    },
    {
     "name": "stderr",
     "output_type": "stream",
     "text": [
      "`Trainer.fit` stopped: `max_epochs=10` reached.\n"
     ]
    },
    {
     "name": "stdout",
     "output_type": "stream",
     "text": [
      "Epoch 9: 100%|██████████| 20/20 [00:00<00:00, 119.79it/s]\n"
     ]
    }
   ],
   "source": [
    "dataset = MNISTDataset()\n",
    "\n",
    "train_indices = np.arange(len(dataset.train_set))\n",
    "data_size=2500\n",
    "num_client=10\n",
    "train_subsets_indices = [train_indices[i * data_size:(i + 1) * data_size] for i in range(num_client)]\n",
    "train_subsets = [Subset(dataset.train_set, indices) for indices in train_subsets_indices]\n",
    " \n",
    "for i in range(1):   \n",
    "    train_loader = DataLoader(train_subsets[i], batch_size=128, shuffle=True, num_workers=0)\n",
    "    model = MLP()\n",
    "    local_trainer = Trainer(max_epochs=10, accelerator=\"gpu\", devices=1, logger=False,\n",
    "                                                            # callbacks = [MyCustomCheckpoint(save_dir=f\"{model_directory}/Local_models/Round_{r}\",\n",
    "                                                            # idx=client.idx, rou=r, logger=model_logger)],\n",
    "                                                            enable_checkpointing=False, enable_model_summary=False, enable_progress_bar=True)\n",
    "                                            \n",
    "    local_trainer.fit(model, train_loader)                                       \n",
    "                                                                    "
   ]
  },
  {
   "cell_type": "code",
   "execution_count": 6,
   "metadata": {},
   "outputs": [
    {
     "name": "stderr",
     "output_type": "stream",
     "text": [
      "j:\\TIA\\.venv\\Lib\\site-packages\\torchvision\\models\\_utils.py:208: UserWarning: The parameter 'pretrained' is deprecated since 0.13 and may be removed in the future, please use 'weights' instead.\n",
      "  warnings.warn(\n",
      "j:\\TIA\\.venv\\Lib\\site-packages\\torchvision\\models\\_utils.py:223: UserWarning: Arguments other than a weight enum or `None` for 'weights' are deprecated since 0.13 and may be removed in the future. The current behavior is equivalent to passing `weights=None`.\n",
      "  warnings.warn(msg)\n",
      "GPU available: True (cuda), used: True\n",
      "TPU available: False, using: 0 TPU cores\n",
      "HPU available: False, using: 0 HPUs\n",
      "j:\\TIA\\.venv\\Lib\\site-packages\\lightning\\pytorch\\trainer\\configuration_validator.py:70: You defined a `validation_step` but have no `val_dataloader`. Skipping val loop.\n",
      "You are using a CUDA device ('NVIDIA GeForce RTX 4070 Ti') that has Tensor Cores. To properly utilize them, you should set `torch.set_float32_matmul_precision('medium' | 'high')` which will trade-off precision for performance. For more details, read https://pytorch.org/docs/stable/generated/torch.set_float32_matmul_precision.html#torch.set_float32_matmul_precision\n",
      "LOCAL_RANK: 0 - CUDA_VISIBLE_DEVICES: [0]\n",
      "j:\\TIA\\.venv\\Lib\\site-packages\\lightning\\pytorch\\trainer\\connectors\\data_connector.py:425: The 'train_dataloader' does not have many workers which may be a bottleneck. Consider increasing the value of the `num_workers` argument` to `num_workers=15` in the `DataLoader` to improve performance.\n"
     ]
    },
    {
     "name": "stdout",
     "output_type": "stream",
     "text": [
      "Epoch 9: 100%|██████████| 20/20 [00:00<00:00, 20.47it/s]"
     ]
    },
    {
     "name": "stderr",
     "output_type": "stream",
     "text": [
      "`Trainer.fit` stopped: `max_epochs=10` reached.\n"
     ]
    },
    {
     "name": "stdout",
     "output_type": "stream",
     "text": [
      "Epoch 9: 100%|██████████| 20/20 [00:00<00:00, 20.45it/s]\n"
     ]
    },
    {
     "name": "stderr",
     "output_type": "stream",
     "text": [
      "LOCAL_RANK: 0 - CUDA_VISIBLE_DEVICES: [0]\n",
      "j:\\TIA\\.venv\\Lib\\site-packages\\lightning\\pytorch\\trainer\\connectors\\data_connector.py:476: Your `test_dataloader`'s sampler has shuffling enabled, it is strongly recommended that you turn shuffling off for val/test dataloaders.\n",
      "j:\\TIA\\.venv\\Lib\\site-packages\\lightning\\pytorch\\trainer\\connectors\\data_connector.py:425: The 'test_dataloader' does not have many workers which may be a bottleneck. Consider increasing the value of the `num_workers` argument` to `num_workers=15` in the `DataLoader` to improve performance.\n"
     ]
    },
    {
     "name": "stdout",
     "output_type": "stream",
     "text": [
      "Testing DataLoader 0: 100%|██████████| 20/20 [00:00<00:00, 27.74it/s]\n",
      "────────────────────────────────────────────────────────────────────────────────────────────────────────────────────────\n",
      "       Test metric             DataLoader 0\n",
      "────────────────────────────────────────────────────────────────────────────────────────────────────────────────────────\n",
      "      test_accuracy         0.7502505779266357\n",
      "      test_f1_score         0.7470359802246094\n",
      "        test_loss           0.8633562326431274\n",
      "     test_precision         0.7926210165023804\n",
      "       test_recall          0.7502505779266357\n",
      "────────────────────────────────────────────────────────────────────────────────────────────────────────────────────────\n"
     ]
    },
    {
     "data": {
      "text/plain": [
       "[{'test_loss': 0.8633562326431274,\n",
       "  'test_accuracy': 0.7502505779266357,\n",
       "  'test_precision': 0.7926210165023804,\n",
       "  'test_recall': 0.7502505779266357,\n",
       "  'test_f1_score': 0.7470359802246094}]"
      ]
     },
     "execution_count": 6,
     "metadata": {},
     "output_type": "execute_result"
    }
   ],
   "source": [
    "from Dataset.svhn import SVHNdataset\n",
    "from Model.svhnresnet18 import SVHNResNet18\n",
    "dataset = SVHNdataset()\n",
    "\n",
    "train_indices = np.arange(len(dataset.train_set))\n",
    "data_size=2500\n",
    "num_client=10\n",
    "train_subsets_indices = [train_indices[i * data_size:(i + 1) * data_size] for i in range(num_client)]\n",
    "train_subsets = [Subset(dataset.train_set, indices) for indices in train_subsets_indices]\n",
    " \n",
    "for i in range(1):   \n",
    "    train_loader = DataLoader(train_subsets[i], batch_size=128, shuffle=True, num_workers=0)\n",
    "    model = SVHNResNet18()\n",
    "    local_trainer = Trainer(max_epochs=10, accelerator=\"gpu\", devices=1, logger=False,\n",
    "                                                            # callbacks = [MyCustomCheckpoint(save_dir=f\"{model_directory}/Local_models/Round_{r}\",\n",
    "                                                            # idx=client.idx, rou=r, logger=model_logger)],\n",
    "                                                            enable_checkpointing=False, enable_model_summary=False, enable_progress_bar=True)\n",
    "                                            \n",
    "    local_trainer.fit(model, train_loader)    \n",
    "test_indices = np.arange(len(dataset.test_set))\n",
    "data_size=2500\n",
    "num_client=10\n",
    "test_subsets_indices = [test_indices[i * data_size:(i + 1) * data_size] for i in range(num_client)]\n",
    "test_subsets = [Subset(dataset.test_set, indices) for indices in test_subsets_indices]\n",
    "test_loader = DataLoader(test_subsets[0], batch_size=128, shuffle=True, num_workers=0)\n",
    "local_trainer.test(model, test_loader)\n"
   ]
  }
 ],
 "metadata": {
  "kernelspec": {
   "display_name": ".venv",
   "language": "python",
   "name": "python3"
  },
  "language_info": {
   "codemirror_mode": {
    "name": "ipython",
    "version": 3
   },
   "file_extension": ".py",
   "mimetype": "text/x-python",
   "name": "python",
   "nbconvert_exporter": "python",
   "pygments_lexer": "ipython3",
   "version": "3.11.4"
  }
 },
 "nbformat": 4,
 "nbformat_minor": 2
}
