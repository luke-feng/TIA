{
 "cells": [
  {
   "cell_type": "code",
   "execution_count": 546,
   "metadata": {},
   "outputs": [],
   "source": [
    "from Dataset.mnist import MNISTDataset"
   ]
  },
  {
   "cell_type": "code",
   "execution_count": 547,
   "metadata": {},
   "outputs": [],
   "source": [
    "from lightning import Trainer\n",
    "from torch.utils.data import DataLoader\n",
    "from Model.mlp import MLP"
   ]
  },
  {
   "cell_type": "code",
   "execution_count": 548,
   "metadata": {},
   "outputs": [],
   "source": [
    "import numpy as np"
   ]
  },
  {
   "cell_type": "code",
   "execution_count": 549,
   "metadata": {},
   "outputs": [],
   "source": [
    "from torch.utils.data import Subset, DataLoader, ConcatDataset"
   ]
  },
  {
   "cell_type": "code",
   "execution_count": null,
   "metadata": {},
   "outputs": [],
   "source": [
    "dataset = MNISTDataset()\n",
    "\n",
    "train_indices = np.arange(len(dataset.train_set))\n",
    "data_size=2500\n",
    "num_client=10\n",
    "train_subsets_indices = [train_indices[i * data_size:(i + 1) * data_size] for i in range(num_client)]\n",
    "train_subsets = [Subset(dataset.train_set, indices) for indices in train_subsets_indices]\n",
    " \n",
    "for i in range(1):   \n",
    "    train_loader = DataLoader(train_subsets[i], batch_size=128, shuffle=True, num_workers=0)\n",
    "    model = MLP()\n",
    "    local_trainer = Trainer(max_epochs=10, accelerator=\"gpu\", devices=1, logger=False,\n",
    "                                                            # callbacks = [MyCustomCheckpoint(save_dir=f\"{model_directory}/Local_models/Round_{r}\",\n",
    "                                                            # idx=client.idx, rou=r, logger=model_logger)],\n",
    "                                                            enable_checkpointing=False, enable_model_summary=False, enable_progress_bar=True)\n",
    "                                            \n",
    "    local_trainer.fit(model, train_loader)                                       \n",
    "                                                                    "
   ]
  },
  {
   "cell_type": "code",
   "execution_count": null,
   "metadata": {},
   "outputs": [],
   "source": [
    "from Dataset.svhn import SVHNdataset\n",
    "from Model.svhnresnet18 import SVHNResNet18\n",
    "dataset = SVHNdataset()\n",
    "\n",
    "train_indices = np.arange(len(dataset.train_set))\n",
    "data_size=2500\n",
    "num_client=10\n",
    "train_subsets_indices = [train_indices[i * data_size:(i + 1) * data_size] for i in range(num_client)]\n",
    "train_subsets = [Subset(dataset.train_set, indices) for indices in train_subsets_indices]\n",
    " \n",
    "for i in range(1):   \n",
    "    train_loader = DataLoader(train_subsets[i], batch_size=128, shuffle=True, num_workers=0)\n",
    "    model = SVHNResNet18()\n",
    "    local_trainer = Trainer(max_epochs=10, accelerator=\"gpu\", devices=1, logger=False,\n",
    "                                                            # callbacks = [MyCustomCheckpoint(save_dir=f\"{model_directory}/Local_models/Round_{r}\",\n",
    "                                                            # idx=client.idx, rou=r, logger=model_logger)],\n",
    "                                                            enable_checkpointing=False, enable_model_summary=False, enable_progress_bar=True)\n",
    "                                            \n",
    "    local_trainer.fit(model, train_loader)    \n",
    "test_indices = np.arange(len(dataset.test_set))\n",
    "data_size=2500\n",
    "num_client=10\n",
    "test_subsets_indices = [test_indices[i * data_size:(i + 1) * data_size] for i in range(num_client)]\n",
    "test_subsets = [Subset(dataset.test_set, indices) for indices in test_subsets_indices]\n",
    "test_loader = DataLoader(test_subsets[0], batch_size=128, shuffle=True, num_workers=0)\n",
    "local_trainer.test(model, test_loader)\n"
   ]
  },
  {
   "cell_type": "code",
   "execution_count": null,
   "metadata": {},
   "outputs": [],
   "source": [
    "import torch\n",
    "import torch.nn as nn\n",
    "import torch.optim as optim\n",
    "import torch.nn.functional as F\n",
    "\n",
    "# 模型定义\n",
    "class GAE(nn.Module):\n",
    "    def __init__(self, num_nodes, hidden_dim, emb_dim):\n",
    "        super(GAE, self).__init__()\n",
    "        self.encoder = nn.Sequential(\n",
    "            nn.Linear(num_nodes, hidden_dim),\n",
    "            nn.ReLU(),\n",
    "            nn.Linear(hidden_dim, emb_dim)\n",
    "        )\n",
    "\n",
    "    def forward(self, S):\n",
    "        Z = self.encoder(S)  # [N, emb_dim]\n",
    "        adj_pred = torch.sigmoid(torch.matmul(Z, Z.t()))  # [N, N]\n",
    "        return adj_pred\n",
    "\n",
    "# # 示例使用\n",
    "# num_nodes = 100  # 假设100个节点\n",
    "# hidden_dim = 64\n",
    "# emb_dim = 32\n",
    "\n",
    "# model = GAE(num_nodes, hidden_dim, emb_dim)\n",
    "# optimizer = optim.Adam(model.parameters(), lr=0.01)\n",
    "\n",
    "# # 假设S为你的相似度矩阵，torch.Tensor类型\n",
    "# S = torch.randn(num_nodes, num_nodes)  # 实际换为你的相似度矩阵\n",
    "\n",
    "# # 训练过程\n",
    "# epochs = 200\n",
    "# for epoch in range(epochs):\n",
    "#     model.train()\n",
    "#     optimizer.zero_grad()\n",
    "#     adj_pred = model(S)\n",
    "#     loss = F.mse_loss(adj_pred, S)\n",
    "#     loss.backward()\n",
    "#     optimizer.step()\n",
    "\n",
    "#     if epoch % 20 == 0:\n",
    "#         print(f\"Epoch {epoch}, Loss: {loss.item():.4f}\")\n",
    "\n",
    "# # 推断边\n",
    "# model.eval()\n",
    "# with torch.no_grad():\n",
    "#     adj_pred = model(S)\n",
    "\n",
    "# # 预测边的信息(阈值化处理)\n",
    "# threshold = 0.5\n",
    "# predicted_edges = (adj_pred > threshold).float()"
   ]
  },
  {
   "cell_type": "code",
   "execution_count": 1,
   "metadata": {},
   "outputs": [],
   "source": [
    "import torch\n",
    "import torch.nn.functional as F\n",
    "from torch_geometric.nn import GATConv\n",
    "from torch_geometric.data import Data\n",
    "from torch_geometric.utils import dense_to_sparse\n",
    "import pandas as pd"
   ]
  },
  {
   "cell_type": "code",
   "execution_count": 2,
   "metadata": {},
   "outputs": [],
   "source": [
    "class GATEncoder(torch.nn.Module):\n",
    "    def __init__(self, in_channels, hidden_channels, out_channels):\n",
    "        super().__init__()\n",
    "        self.conv1 = GATConv(in_channels, hidden_channels, heads=4, concat=True)\n",
    "        self.conv2 = GATConv(hidden_channels * 4, out_channels, heads=1, concat=False)\n",
    "        self.norm = torch.nn.LayerNorm(out_channels)\n",
    "\n",
    "    def forward(self, x, edge_index):\n",
    "        x = self.conv1(x, edge_index)\n",
    "        x = F.elu(x)\n",
    "        x = self.conv2(x, edge_index)\n",
    "        x = self.norm(x)\n",
    "        return x\n",
    "\n",
    "class Decoder(torch.nn.Module):\n",
    "    def __init__(self, input_dim):\n",
    "        super().__init__()\n",
    "        self.mlp = torch.nn.Sequential(\n",
    "            torch.nn.Linear(2 * input_dim, 64),\n",
    "            torch.nn.ReLU(),\n",
    "            torch.nn.Linear(64, 1),\n",
    "            torch.nn.Sigmoid()\n",
    "        )\n",
    "\n",
    "    def forward(self, Z):\n",
    "        N = Z.shape[0]\n",
    "        pairs = torch.stack(torch.meshgrid(torch.arange(N), torch.arange(N)), dim=-1).reshape(-1, 2)\n",
    "        zi = Z[pairs[:, 0]]\n",
    "        zj = Z[pairs[:, 1]]\n",
    "        z_concat = torch.cat([zi, zj], dim=1)\n",
    "        pred = self.mlp(z_concat).view(N, N)\n",
    "        return pred\n",
    "\n",
    "class GAE(torch.nn.Module):\n",
    "    def __init__(self, encoder, decoder):\n",
    "        super().__init__()\n",
    "        self.encoder = encoder\n",
    "        self.decoder = decoder\n",
    "\n",
    "    def forward(self, x, edge_index):\n",
    "        z = self.encoder(x, edge_index)\n",
    "        # adj_pred = torch.sigmoid(torch.matmul(z, z.T)) \n",
    "        adj_pred = self.decoder(z)\n",
    "        return adj_pred\n",
    "    \n",
    "    "
   ]
  },
  {
   "cell_type": "code",
   "execution_count": 3,
   "metadata": {},
   "outputs": [],
   "source": [
    "from skimage.filters import threshold_otsu\n",
    "\n",
    "def threshold_by_otsu(adj_pred):\n",
    "    if hasattr(adj_pred, 'detach'):\n",
    "        adj_np = adj_pred.detach().cpu().numpy().flatten()\n",
    "    else:\n",
    "        adj_np = adj_pred.flatten()\n",
    "    threshold = threshold_otsu(adj_np)\n",
    "\n",
    "    edge_matrix = (adj_pred >= threshold).float()\n",
    "    return edge_matrix, threshold"
   ]
  },
  {
   "cell_type": "code",
   "execution_count": 4,
   "metadata": {},
   "outputs": [],
   "source": [
    "from kneed import KneeLocator\n",
    "\n",
    "def threshold_by_knee(adj_pred, pd=7):\n",
    "    scores = np.sort(adj_pred.flatten())[::-1]\n",
    "    kneedle = KneeLocator(range(len(scores)), scores, curve='convex', direction='decreasing', interp_method=\"polynomial\", polynomial_degree=pd)\n",
    "    threshold = scores[kneedle.knee]\n",
    "    return (adj_pred >= threshold).float(), threshold"
   ]
  },
  {
   "cell_type": "code",
   "execution_count": 5,
   "metadata": {},
   "outputs": [],
   "source": [
    "def sigmoid_stretch(x, alpha=10):\n",
    "    return 1 / (1 + np.exp(-alpha * (x - 0.5)))"
   ]
  },
  {
   "cell_type": "code",
   "execution_count": 6,
   "metadata": {},
   "outputs": [],
   "source": [
    "import numpy as np\n",
    "\n",
    "# Reconvert matrix using numpy\n",
    "def contrastive_normalization_np(sim, eta=3):\n",
    "    sim = np.copy(sim)\n",
    "    col_min = sim.min(axis=0, keepdims=True)\n",
    "\n",
    "    # Sort each column and get the second largest value\n",
    "    sorted_cols = np.sort(sim, axis=0)\n",
    "    second_max = sorted_cols[-2, :].reshape(1, -1)\n",
    "    \n",
    "    # col_max = sim.max(axis=0, keepdims=True)\n",
    "\n",
    "    eps = 1e-8\n",
    "    normalized = (sim - col_min) / (second_max - col_min + eps)\n",
    "\n",
    "    normalized = np.clip(normalized, 0, 1)\n",
    "    normalized = (normalized + normalized.T) / 2\n",
    "    normalized = np.power(normalized, eta)\n",
    "    \n",
    "    return normalized\n",
    "\n",
    "# Redefine transformation functions using NumPy\n",
    "def amplify_similarity_np(sim, gamma=5):\n",
    "    return (1.0 - sim) ** gamma "
   ]
  },
  {
   "cell_type": "code",
   "execution_count": 7,
   "metadata": {},
   "outputs": [],
   "source": [
    "def build_sparse_edge(sim_matrix, k=3):\n",
    "    \"\"\"\n",
    "    从相似度矩阵构建稀疏 edge_index 和 edge_weight，用于 GAT 等模型。\n",
    "    \"\"\"\n",
    "    N = sim_matrix.shape[0]\n",
    "    edge_index = []\n",
    "    edge_weight = []\n",
    "    for i in range(N):\n",
    "        topk = torch.topk(sim_matrix[i], k + 1).indices  # +1 是包含自己\n",
    "        for j in topk:\n",
    "            if i != j:\n",
    "                edge_index.append([i, j])\n",
    "                edge_weight.append(sim_matrix[i][j])  # 记录边权重\n",
    "    edge_index = torch.tensor(edge_index, dtype=torch.long).T  # shape [2, E]\n",
    "    edge_weight = torch.tensor(edge_weight, dtype=torch.float32)  # shape [E]\n",
    "    return edge_index, edge_weight"
   ]
  },
  {
   "cell_type": "code",
   "execution_count": 8,
   "metadata": {},
   "outputs": [],
   "source": [
    "def build_sparse_edge_otsu(sim_matrix):\n",
    "    \"\"\"\n",
    "    使用 Otsu 自动阈值从相似度矩阵构建稀疏 edge_index 和 edge_weight。\n",
    "    输入：\n",
    "        sim_matrix: torch.Tensor, shape [N, N]，应为对称相似度矩阵\n",
    "    输出：\n",
    "        edge_index: torch.LongTensor, shape [2, E]\n",
    "        edge_weight: torch.FloatTensor, shape [E]\n",
    "    \"\"\"\n",
    "    N = sim_matrix.shape[0]\n",
    "\n",
    "    # 转为 numpy 计算 otsu 阈值\n",
    "    sim_np = sim_matrix.cpu().numpy()\n",
    "    threshold = threshold_otsu(sim_np.flatten())\n",
    "\n",
    "    edge_index = []\n",
    "    edge_weight = []\n",
    "\n",
    "    for i in range(N):\n",
    "        for j in range(N):\n",
    "            if i != j and sim_np[i, j] >= threshold:\n",
    "            # if sim_np[i, j] >= threshold:\n",
    "                edge_index.append([i, j])\n",
    "                edge_weight.append(sim_np[i, j].item())\n",
    "\n",
    "    edge_index = torch.tensor(edge_index, dtype=torch.long).T  # shape [2, E]\n",
    "    edge_weight = torch.tensor(edge_weight, dtype=torch.float32)  # shape [E]\n",
    "\n",
    "    return edge_index, edge_weight, threshold"
   ]
  },
  {
   "cell_type": "code",
   "execution_count": 9,
   "metadata": {},
   "outputs": [],
   "source": [
    "df_path = \"J:\\TIA\\TIA\\saved_results\\Cosine_Similarity\\Extra_cases_30\\Mnist_mlp_star_1_0.1_42_3_30\\Round_39.xlsx\"\n",
    "df = pd.read_excel(df_path)"
   ]
  },
  {
   "cell_type": "code",
   "execution_count": 10,
   "metadata": {},
   "outputs": [],
   "source": [
    "sim_matrix_np = df.values.astype(np.float32)"
   ]
  },
  {
   "cell_type": "code",
   "execution_count": 11,
   "metadata": {},
   "outputs": [],
   "source": [
    "sim_matrix_np = df.values.astype(np.float32)\n",
    "sim_matrix_np = contrastive_normalization_np(sim_matrix_np,eta=2)\n",
    "# sim_matrix_np = np.exp(sim_matrix_np)\n",
    "# sim_matrix_np"
   ]
  },
  {
   "cell_type": "code",
   "execution_count": 12,
   "metadata": {},
   "outputs": [],
   "source": [
    "sim_matrix = torch.tensor(sim_matrix_np, dtype=torch.float32)"
   ]
  },
  {
   "cell_type": "code",
   "execution_count": 13,
   "metadata": {},
   "outputs": [],
   "source": [
    "x = sim_matrix\n",
    "edge_index, edge_weight = build_sparse_edge(sim_matrix)\n",
    "# edge_index, edge_weight, sparse_th = build_sparse_edge_otsu(sim_matrix)\n",
    "data = Data(x=x, edge_index=edge_index, edge_attr=edge_weight)"
   ]
  },
  {
   "cell_type": "code",
   "execution_count": 14,
   "metadata": {},
   "outputs": [],
   "source": [
    "encoder = GATEncoder(in_channels=x.size(1), hidden_channels=32, out_channels=16)\n",
    "decoder = Decoder(input_dim=16)\n",
    "model = GAE(encoder, decoder)\n",
    "optimizer = torch.optim.Adam(model.parameters(), lr=0.01)"
   ]
  },
  {
   "cell_type": "code",
   "execution_count": 15,
   "metadata": {},
   "outputs": [
    {
     "name": "stderr",
     "output_type": "stream",
     "text": [
      "j:\\TIA\\.venv\\Lib\\site-packages\\torch\\functional.py:539: UserWarning: torch.meshgrid: in an upcoming release, it will be required to pass the indexing argument. (Triggered internally at C:\\actions-runner\\_work\\pytorch\\pytorch\\pytorch\\aten\\src\\ATen\\native\\TensorShape.cpp:3638.)\n",
      "  return _VF.meshgrid(tensors, **kwargs)  # type: ignore[attr-defined]\n"
     ]
    },
    {
     "name": "stdout",
     "output_type": "stream",
     "text": [
      "Epoch 0 | Loss: 0.1113\n",
      "Epoch 20 | Loss: 0.0414\n",
      "Epoch 40 | Loss: 0.0351\n",
      "Epoch 60 | Loss: 0.0338\n",
      "Epoch 80 | Loss: 0.0330\n",
      "Epoch 100 | Loss: 0.0318\n",
      "Epoch 120 | Loss: 0.0314\n",
      "Epoch 140 | Loss: 0.0291\n",
      "Epoch 160 | Loss: 0.0262\n",
      "Epoch 180 | Loss: 0.0239\n"
     ]
    }
   ],
   "source": [
    "for epoch in range(200):\n",
    "    model.train()\n",
    "    optimizer.zero_grad()\n",
    "    adj_pred = model(data.x, data.edge_index)\n",
    "    loss = F.mse_loss(adj_pred, sim_matrix)\n",
    "    loss.backward()\n",
    "    optimizer.step()\n",
    "    if epoch % 20 == 0:\n",
    "        print(f\"Epoch {epoch} | Loss: {loss.item():.4f}\")"
   ]
  },
  {
   "cell_type": "code",
   "execution_count": 16,
   "metadata": {},
   "outputs": [],
   "source": [
    "model.eval()\n",
    "with torch.no_grad():\n",
    "    adj_pred = model(data.x, data.edge_index)\n",
    "    # edge_matrix, threshold = threshold_by_knee(adj_pred)\n",
    "    # adj_pred = soft_threshold(adj_pred, tau=0.7)\n",
    "    edge_matrix, threshold = threshold_by_otsu(adj_pred)"
   ]
  },
  {
   "cell_type": "code",
   "execution_count": 17,
   "metadata": {},
   "outputs": [
    {
     "data": {
      "image/png": "[encoded data removed]",
      "text/plain": [
       "<Figure size 2000x400 with 8 Axes>"
      ]
     },
     "metadata": {},
     "output_type": "display_data"
    }
   ],
   "source": [
    "# Switch to using only NumPy for compatibility\n",
    "import numpy as np\n",
    "\n",
    "# Reconvert matrix using numpy\n",
    "sim_matrix_np = df.values.astype(np.float32)\n",
    "\n",
    "\n",
    "# Apply transformations\n",
    "methods_np = {\n",
    "    \"Original\": df.values,\n",
    "    \"Amplified (γ=3)\": sim_matrix,\n",
    "    \"predicted\": edge_matrix,\n",
    "    \"adj_pred.\": adj_pred,\n",
    "}\n",
    "\n",
    "# Visualize results\n",
    "import matplotlib.pyplot as plt\n",
    "import seaborn as sns\n",
    "\n",
    "fig, axes = plt.subplots(1, len(methods_np), figsize=(20, 4))\n",
    "for ax, (title, matrix) in zip(axes, methods_np.items()):\n",
    "    sns.heatmap(matrix, ax=ax, cmap=\"viridis\", cbar=True)\n",
    "    ax.set_title(title)\n",
    "    ax.axis('off')\n",
    "\n",
    "plt.tight_layout()\n",
    "plt.show()\n"
   ]
  }
 ],
 "metadata": {
  "kernelspec": {
   "display_name": ".venv",
   "language": "python",
   "name": "python3"
  },
  "language_info": {
   "codemirror_mode": {
    "name": "ipython",
    "version": 3
   },
   "file_extension": ".py",
   "mimetype": "text/x-python",
   "name": "python",
   "nbconvert_exporter": "python",
   "pygments_lexer": "ipython3",
   "version": "3.11.4"
  }
 },
 "nbformat": 4,
 "nbformat_minor": 2
}
