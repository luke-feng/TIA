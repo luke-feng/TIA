{
 "cells": [
  {
   "cell_type": "code",
   "execution_count": 2,
   "metadata": {},
   "outputs": [],
   "source": [
    "import pandas\n",
    "import networkx as nx\n",
    "import pickle"
   ]
  },
  {
   "cell_type": "code",
   "execution_count": 3,
   "metadata": {},
   "outputs": [],
   "source": [
    "def create_graph_object(num, name):\n",
    "    if name == \"fully\":\n",
    "        G = nx.complete_graph(num)\n",
    "    elif name == \"star\":\n",
    "        G = nx.star_graph(num - 1)\n",
    "    elif name == \"ring\":\n",
    "        G = nx.cycle_graph(num)\n",
    "    elif name.startswith(\"ER_\"):\n",
    "        try:\n",
    "            # Extract probability and seed from the graph_info\n",
    "            parts = name.split(\"_\")\n",
    "            prob = float(parts[1])\n",
    "            G = nx.erdos_renyi_graph(num, prob, seed=45)\n",
    "        except (IndexError, ValueError):\n",
    "            raise ValueError(\"Invalid format for ER graph type. Expected 'ER_prob'\")\n",
    "    else:\n",
    "        raise ValueError(\"Not supported topology.\")        \n",
    "    return G"
   ]
  },
  {
   "cell_type": "code",
   "execution_count": 4,
   "metadata": {},
   "outputs": [],
   "source": [
    "for num in [10,20,30]:\n",
    "    for name in [\"fully\", \"star\", \"ring\", \"ER_0.3\", \"ER_0.7\", \"ER_0.5\"]:\n",
    "        G = create_graph_object(num, name)\n",
    "        with open(f'{num}_{name}.pk','wb') as f:\n",
    "            pickle.dump(G, f)"
   ]
  },
  {
   "cell_type": "code",
   "execution_count": 5,
   "metadata": {},
   "outputs": [
    {
     "name": "stdout",
     "output_type": "stream",
     "text": [
      "Abilene_edges.csv 12\n",
      "GÉANT_edges.csv 22\n",
      "synth50_edges.csv 50\n",
      "rf1755_edges.csv 87\n",
      "rf3967_edges.csv 79\n"
     ]
    }
   ],
   "source": [
    "for file_name in ['Abilene_edges.csv', 'GÉANT_edges.csv', 'synth50_edges.csv', 'rf1755_edges.csv', 'rf3967_edges.csv']:\n",
    "    edges_df = pandas.read_csv(file_name)\n",
    "    parts = file_name.split(\"_\")\n",
    "    topo = parts[0]\n",
    "    G = nx.DiGraph()\n",
    "    for _, row in edges_df.iterrows():\n",
    "        G.add_edge(row['src'], row['dst'])\n",
    "    adj_matrix = nx.adjacency_matrix(G).todense()\n",
    "    print(file_name, len(adj_matrix))\n",
    "    with open(f'{len(adj_matrix)}_{topo}.pk','wb') as f:\n",
    "        pickle.dump(G, f)"
   ]
  }
 ],
 "metadata": {
  "kernelspec": {
   "display_name": ".venv",
   "language": "python",
   "name": "python3"
  },
  "language_info": {
   "codemirror_mode": {
    "name": "ipython",
    "version": 3
   },
   "file_extension": ".py",
   "mimetype": "text/x-python",
   "name": "python",
   "nbconvert_exporter": "python",
   "pygments_lexer": "ipython3",
   "version": "3.11.4"
  }
 },
 "nbformat": 4,
 "nbformat_minor": 2
}
